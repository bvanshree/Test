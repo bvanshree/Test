{
 "cells": [
  {
   "cell_type": "code",
   "execution_count": 2,
   "metadata": {},
   "outputs": [
    {
     "data": {
      "text/html": [
       "<div>\n",
       "<style scoped>\n",
       "    .dataframe tbody tr th:only-of-type {\n",
       "        vertical-align: middle;\n",
       "    }\n",
       "\n",
       "    .dataframe tbody tr th {\n",
       "        vertical-align: top;\n",
       "    }\n",
       "\n",
       "    .dataframe thead th {\n",
       "        text-align: right;\n",
       "    }\n",
       "</style>\n",
       "<table border=\"1\" class=\"dataframe\">\n",
       "  <thead>\n",
       "    <tr style=\"text-align: right;\">\n",
       "      <th></th>\n",
       "      <th>s_id</th>\n",
       "      <th>Unnamed: 1</th>\n",
       "      <th>Unnamed: 2</th>\n",
       "      <th>Unnamed: 3</th>\n",
       "      <th>Unnamed: 4</th>\n",
       "      <th>Unnamed: 5</th>\n",
       "      <th>Unnamed: 6</th>\n",
       "      <th>Unnamed: 7</th>\n",
       "      <th>Unnamed: 8</th>\n",
       "      <th>Unnamed: 9</th>\n",
       "      <th>...</th>\n",
       "      <th>Unnamed: 952</th>\n",
       "      <th>Unnamed: 953</th>\n",
       "      <th>Unnamed: 954</th>\n",
       "      <th>Unnamed: 955</th>\n",
       "      <th>Unnamed: 956</th>\n",
       "      <th>Unnamed: 957</th>\n",
       "      <th>Unnamed: 958</th>\n",
       "      <th>Unnamed: 959</th>\n",
       "      <th>Unnamed: 960</th>\n",
       "      <th>lables</th>\n",
       "    </tr>\n",
       "  </thead>\n",
       "  <tbody>\n",
       "    <tr>\n",
       "      <th>0</th>\n",
       "      <td>1</td>\n",
       "      <td>-1.8226</td>\n",
       "      <td>8.51070</td>\n",
       "      <td>-0.53551</td>\n",
       "      <td>-2.03440</td>\n",
       "      <td>2.2282</td>\n",
       "      <td>2.04870</td>\n",
       "      <td>-5.81380</td>\n",
       "      <td>-4.4169</td>\n",
       "      <td>2.3129</td>\n",
       "      <td>...</td>\n",
       "      <td>-5.74060</td>\n",
       "      <td>12.5650</td>\n",
       "      <td>41.23100</td>\n",
       "      <td>-6.77570</td>\n",
       "      <td>1.72780</td>\n",
       "      <td>15.9120</td>\n",
       "      <td>23.583000</td>\n",
       "      <td>3.9158</td>\n",
       "      <td>35.7250</td>\n",
       "      <td>1</td>\n",
       "    </tr>\n",
       "    <tr>\n",
       "      <th>1</th>\n",
       "      <td>2</td>\n",
       "      <td>1.2816</td>\n",
       "      <td>-0.49410</td>\n",
       "      <td>-0.19667</td>\n",
       "      <td>1.05510</td>\n",
       "      <td>-1.9280</td>\n",
       "      <td>1.07120</td>\n",
       "      <td>-0.19667</td>\n",
       "      <td>-4.6669</td>\n",
       "      <td>3.8230</td>\n",
       "      <td>...</td>\n",
       "      <td>-20.50300</td>\n",
       "      <td>47.7540</td>\n",
       "      <td>2.88560</td>\n",
       "      <td>-6.86660</td>\n",
       "      <td>6.29350</td>\n",
       "      <td>-4.8789</td>\n",
       "      <td>-1.300100</td>\n",
       "      <td>-1.4275</td>\n",
       "      <td>-3.4192</td>\n",
       "      <td>1</td>\n",
       "    </tr>\n",
       "    <tr>\n",
       "      <th>2</th>\n",
       "      <td>3</td>\n",
       "      <td>-2.0304</td>\n",
       "      <td>-0.27552</td>\n",
       "      <td>-0.58236</td>\n",
       "      <td>-5.95250</td>\n",
       "      <td>7.3550</td>\n",
       "      <td>2.16640</td>\n",
       "      <td>-4.71510</td>\n",
       "      <td>17.1580</td>\n",
       "      <td>15.5120</td>\n",
       "      <td>...</td>\n",
       "      <td>-10.71800</td>\n",
       "      <td>-4.5436</td>\n",
       "      <td>1.38680</td>\n",
       "      <td>-5.32100</td>\n",
       "      <td>-6.08350</td>\n",
       "      <td>-1.3021</td>\n",
       "      <td>-10.569000</td>\n",
       "      <td>-4.2189</td>\n",
       "      <td>-1.6538</td>\n",
       "      <td>1</td>\n",
       "    </tr>\n",
       "    <tr>\n",
       "      <th>3</th>\n",
       "      <td>4</td>\n",
       "      <td>-1.0026</td>\n",
       "      <td>0.41320</td>\n",
       "      <td>0.62058</td>\n",
       "      <td>-0.34226</td>\n",
       "      <td>-0.2027</td>\n",
       "      <td>-0.92619</td>\n",
       "      <td>0.61123</td>\n",
       "      <td>-2.0824</td>\n",
       "      <td>-3.5442</td>\n",
       "      <td>...</td>\n",
       "      <td>-2.90100</td>\n",
       "      <td>4.5538</td>\n",
       "      <td>-0.77261</td>\n",
       "      <td>4.25520</td>\n",
       "      <td>0.27911</td>\n",
       "      <td>4.7744</td>\n",
       "      <td>-5.695200</td>\n",
       "      <td>-18.7410</td>\n",
       "      <td>58.3810</td>\n",
       "      <td>1</td>\n",
       "    </tr>\n",
       "    <tr>\n",
       "      <th>4</th>\n",
       "      <td>5</td>\n",
       "      <td>1.2754</td>\n",
       "      <td>25.84200</td>\n",
       "      <td>5.80000</td>\n",
       "      <td>2.89000</td>\n",
       "      <td>3.1957</td>\n",
       "      <td>4.45040</td>\n",
       "      <td>5.99760</td>\n",
       "      <td>-6.4947</td>\n",
       "      <td>2.9189</td>\n",
       "      <td>...</td>\n",
       "      <td>-0.97276</td>\n",
       "      <td>3.8810</td>\n",
       "      <td>7.13330</td>\n",
       "      <td>0.70157</td>\n",
       "      <td>-1.69570</td>\n",
       "      <td>1.2263</td>\n",
       "      <td>-0.093752</td>\n",
       "      <td>-1.7140</td>\n",
       "      <td>2.5131</td>\n",
       "      <td>1</td>\n",
       "    </tr>\n",
       "  </tbody>\n",
       "</table>\n",
       "<p>5 rows × 962 columns</p>\n",
       "</div>"
      ],
      "text/plain": [
       "   s_id  Unnamed: 1  Unnamed: 2  Unnamed: 3  Unnamed: 4  Unnamed: 5  \\\n",
       "0     1     -1.8226     8.51070    -0.53551    -2.03440      2.2282   \n",
       "1     2      1.2816    -0.49410    -0.19667     1.05510     -1.9280   \n",
       "2     3     -2.0304    -0.27552    -0.58236    -5.95250      7.3550   \n",
       "3     4     -1.0026     0.41320     0.62058    -0.34226     -0.2027   \n",
       "4     5      1.2754    25.84200     5.80000     2.89000      3.1957   \n",
       "\n",
       "   Unnamed: 6  Unnamed: 7  Unnamed: 8  Unnamed: 9  ...  Unnamed: 952  \\\n",
       "0     2.04870    -5.81380     -4.4169      2.3129  ...      -5.74060   \n",
       "1     1.07120    -0.19667     -4.6669      3.8230  ...     -20.50300   \n",
       "2     2.16640    -4.71510     17.1580     15.5120  ...     -10.71800   \n",
       "3    -0.92619     0.61123     -2.0824     -3.5442  ...      -2.90100   \n",
       "4     4.45040     5.99760     -6.4947      2.9189  ...      -0.97276   \n",
       "\n",
       "   Unnamed: 953  Unnamed: 954  Unnamed: 955  Unnamed: 956  Unnamed: 957  \\\n",
       "0       12.5650      41.23100      -6.77570       1.72780       15.9120   \n",
       "1       47.7540       2.88560      -6.86660       6.29350       -4.8789   \n",
       "2       -4.5436       1.38680      -5.32100      -6.08350       -1.3021   \n",
       "3        4.5538      -0.77261       4.25520       0.27911        4.7744   \n",
       "4        3.8810       7.13330       0.70157      -1.69570        1.2263   \n",
       "\n",
       "   Unnamed: 958  Unnamed: 959  Unnamed: 960  lables  \n",
       "0     23.583000        3.9158       35.7250       1  \n",
       "1     -1.300100       -1.4275       -3.4192       1  \n",
       "2    -10.569000       -4.2189       -1.6538       1  \n",
       "3     -5.695200      -18.7410       58.3810       1  \n",
       "4     -0.093752       -1.7140        2.5131       1  \n",
       "\n",
       "[5 rows x 962 columns]"
      ]
     },
     "execution_count": 2,
     "metadata": {},
     "output_type": "execute_result"
    }
   ],
   "source": [
    "import numpy as np\n",
    "import pandas as pd\n",
    "from sklearn.preprocessing import StandardScaler \n",
    "from sklearn.decomposition import PCA\n",
    "df = pd.read_csv (r'C:\\Users\\vansh\\Desktop\\Book\\COMP90051\\Assignment 1\\train.csv')\n",
    "df1 = pd.read_csv (r'C:\\Users\\vansh\\Desktop\\Book\\COMP90051\\Assignment 1\\test.csv')\n",
    "df.head()"
   ]
  },
  {
   "cell_type": "code",
   "execution_count": 3,
   "metadata": {},
   "outputs": [
    {
     "data": {
      "text/plain": [
       "(9388, 962)"
      ]
     },
     "execution_count": 3,
     "metadata": {},
     "output_type": "execute_result"
    }
   ],
   "source": [
    "df.shape"
   ]
  },
  {
   "cell_type": "code",
   "execution_count": 23,
   "metadata": {},
   "outputs": [],
   "source": [
    "X = df.iloc[:,1:961].values\n",
    "Xt = df1.iloc[:,1:961].values\n",
    "y = df.iloc[:,961].values"
   ]
  },
  {
   "cell_type": "code",
   "execution_count": 24,
   "metadata": {},
   "outputs": [
    {
     "name": "stdout",
     "output_type": "stream",
     "text": [
      "[ 1  1  1 ... 49 49 49]\n"
     ]
    }
   ],
   "source": [
    "#print(Xt)\n",
    "print(y)"
   ]
  },
  {
   "cell_type": "code",
   "execution_count": 6,
   "metadata": {},
   "outputs": [
    {
     "data": {
      "text/plain": [
       "(9388, 960)"
      ]
     },
     "execution_count": 6,
     "metadata": {},
     "output_type": "execute_result"
    }
   ],
   "source": [
    "df.dropna(how=\"all\", inplace=True)\n",
    "X.shape"
   ]
  },
  {
   "cell_type": "code",
   "execution_count": 7,
   "metadata": {},
   "outputs": [],
   "source": [
    "X_std = StandardScaler().fit_transform(X)\n",
    "#X_std\n",
    "Xt_std = StandardScaler().fit_transform(Xt)\n",
    "#Xt_std"
   ]
  },
  {
   "cell_type": "code",
   "execution_count": 8,
   "metadata": {},
   "outputs": [
    {
     "data": {
      "text/plain": [
       "PCA(n_components=0.95)"
      ]
     },
     "execution_count": 8,
     "metadata": {},
     "output_type": "execute_result"
    }
   ],
   "source": [
    "pca = PCA(.95)\n",
    "pca.fit(X_std)"
   ]
  },
  {
   "cell_type": "code",
   "execution_count": 9,
   "metadata": {},
   "outputs": [
    {
     "data": {
      "text/plain": [
       "(9388, 172)"
      ]
     },
     "execution_count": 9,
     "metadata": {},
     "output_type": "execute_result"
    }
   ],
   "source": [
    "reduced = pca.fit_transform(X_std)\n",
    "reduced.shape"
   ]
  },
  {
   "cell_type": "code",
   "execution_count": 10,
   "metadata": {},
   "outputs": [
    {
     "name": "stdout",
     "output_type": "stream",
     "text": [
      "172\n"
     ]
    }
   ],
   "source": [
    "a = pd.DataFrame(reduced.shape)\n",
    "a = a.iloc[1:,0].values\n",
    "a = a[0]\n",
    "print(a)"
   ]
  },
  {
   "cell_type": "code",
   "execution_count": 11,
   "metadata": {},
   "outputs": [],
   "source": [
    "pca = PCA(n_components = a)\n",
    "pca.fit(Xt_std)\n",
    "reduced2 = pca.fit_transform(Xt_std)"
   ]
  },
  {
   "cell_type": "code",
   "execution_count": 13,
   "metadata": {},
   "outputs": [
    {
     "data": {
      "text/html": [
       "<div>\n",
       "<style scoped>\n",
       "    .dataframe tbody tr th:only-of-type {\n",
       "        vertical-align: middle;\n",
       "    }\n",
       "\n",
       "    .dataframe tbody tr th {\n",
       "        vertical-align: top;\n",
       "    }\n",
       "\n",
       "    .dataframe thead th {\n",
       "        text-align: right;\n",
       "    }\n",
       "</style>\n",
       "<table border=\"1\" class=\"dataframe\">\n",
       "  <thead>\n",
       "    <tr style=\"text-align: right;\">\n",
       "      <th></th>\n",
       "      <th>0</th>\n",
       "      <th>1</th>\n",
       "      <th>2</th>\n",
       "      <th>3</th>\n",
       "      <th>4</th>\n",
       "      <th>5</th>\n",
       "      <th>6</th>\n",
       "      <th>7</th>\n",
       "      <th>8</th>\n",
       "      <th>9</th>\n",
       "      <th>...</th>\n",
       "      <th>162</th>\n",
       "      <th>163</th>\n",
       "      <th>164</th>\n",
       "      <th>165</th>\n",
       "      <th>166</th>\n",
       "      <th>167</th>\n",
       "      <th>168</th>\n",
       "      <th>169</th>\n",
       "      <th>170</th>\n",
       "      <th>171</th>\n",
       "    </tr>\n",
       "  </thead>\n",
       "  <tbody>\n",
       "    <tr>\n",
       "      <th>0</th>\n",
       "      <td>0.880839</td>\n",
       "      <td>-4.910223</td>\n",
       "      <td>-2.217026</td>\n",
       "      <td>-4.095382</td>\n",
       "      <td>1.990291</td>\n",
       "      <td>-0.320239</td>\n",
       "      <td>3.444052</td>\n",
       "      <td>2.258262</td>\n",
       "      <td>-3.209390</td>\n",
       "      <td>-0.927825</td>\n",
       "      <td>...</td>\n",
       "      <td>0.127895</td>\n",
       "      <td>-0.317623</td>\n",
       "      <td>0.843823</td>\n",
       "      <td>0.159433</td>\n",
       "      <td>0.047389</td>\n",
       "      <td>0.268116</td>\n",
       "      <td>0.289188</td>\n",
       "      <td>-0.177913</td>\n",
       "      <td>-0.312349</td>\n",
       "      <td>-0.038182</td>\n",
       "    </tr>\n",
       "    <tr>\n",
       "      <th>1</th>\n",
       "      <td>-33.418265</td>\n",
       "      <td>52.448757</td>\n",
       "      <td>8.584065</td>\n",
       "      <td>-3.702928</td>\n",
       "      <td>4.623700</td>\n",
       "      <td>-2.797864</td>\n",
       "      <td>-6.566010</td>\n",
       "      <td>0.578034</td>\n",
       "      <td>2.242778</td>\n",
       "      <td>-11.714979</td>\n",
       "      <td>...</td>\n",
       "      <td>-0.624490</td>\n",
       "      <td>-0.304565</td>\n",
       "      <td>0.158404</td>\n",
       "      <td>0.747687</td>\n",
       "      <td>-0.241269</td>\n",
       "      <td>-0.038605</td>\n",
       "      <td>0.115899</td>\n",
       "      <td>0.236453</td>\n",
       "      <td>-1.403034</td>\n",
       "      <td>-0.785582</td>\n",
       "    </tr>\n",
       "    <tr>\n",
       "      <th>2</th>\n",
       "      <td>0.651523</td>\n",
       "      <td>-2.514603</td>\n",
       "      <td>4.909783</td>\n",
       "      <td>4.287016</td>\n",
       "      <td>-3.843097</td>\n",
       "      <td>0.223324</td>\n",
       "      <td>0.848711</td>\n",
       "      <td>2.911398</td>\n",
       "      <td>-3.648909</td>\n",
       "      <td>-0.526383</td>\n",
       "      <td>...</td>\n",
       "      <td>-0.021966</td>\n",
       "      <td>0.053772</td>\n",
       "      <td>-0.058075</td>\n",
       "      <td>-0.023436</td>\n",
       "      <td>-0.008878</td>\n",
       "      <td>-0.062572</td>\n",
       "      <td>0.039971</td>\n",
       "      <td>0.092517</td>\n",
       "      <td>-0.025840</td>\n",
       "      <td>0.010921</td>\n",
       "    </tr>\n",
       "    <tr>\n",
       "      <th>3</th>\n",
       "      <td>10.934190</td>\n",
       "      <td>2.498354</td>\n",
       "      <td>18.560416</td>\n",
       "      <td>7.058077</td>\n",
       "      <td>0.185726</td>\n",
       "      <td>2.152927</td>\n",
       "      <td>-8.607993</td>\n",
       "      <td>0.123869</td>\n",
       "      <td>14.629055</td>\n",
       "      <td>3.469707</td>\n",
       "      <td>...</td>\n",
       "      <td>0.321503</td>\n",
       "      <td>-0.776772</td>\n",
       "      <td>0.191155</td>\n",
       "      <td>-1.005195</td>\n",
       "      <td>-0.944213</td>\n",
       "      <td>-0.876913</td>\n",
       "      <td>-1.227369</td>\n",
       "      <td>0.478337</td>\n",
       "      <td>0.123222</td>\n",
       "      <td>0.451757</td>\n",
       "    </tr>\n",
       "    <tr>\n",
       "      <th>4</th>\n",
       "      <td>-1.430452</td>\n",
       "      <td>-1.731867</td>\n",
       "      <td>10.914315</td>\n",
       "      <td>7.377211</td>\n",
       "      <td>-5.516296</td>\n",
       "      <td>-1.309721</td>\n",
       "      <td>-1.971173</td>\n",
       "      <td>-5.417054</td>\n",
       "      <td>0.407181</td>\n",
       "      <td>4.738639</td>\n",
       "      <td>...</td>\n",
       "      <td>-0.259743</td>\n",
       "      <td>0.479766</td>\n",
       "      <td>0.829216</td>\n",
       "      <td>0.900501</td>\n",
       "      <td>-1.141532</td>\n",
       "      <td>1.222215</td>\n",
       "      <td>0.452313</td>\n",
       "      <td>-1.695914</td>\n",
       "      <td>-0.392326</td>\n",
       "      <td>-1.489823</td>\n",
       "    </tr>\n",
       "  </tbody>\n",
       "</table>\n",
       "<p>5 rows × 172 columns</p>\n",
       "</div>"
      ],
      "text/plain": [
       "         0          1          2         3         4         5         6    \\\n",
       "0   0.880839  -4.910223  -2.217026 -4.095382  1.990291 -0.320239  3.444052   \n",
       "1 -33.418265  52.448757   8.584065 -3.702928  4.623700 -2.797864 -6.566010   \n",
       "2   0.651523  -2.514603   4.909783  4.287016 -3.843097  0.223324  0.848711   \n",
       "3  10.934190   2.498354  18.560416  7.058077  0.185726  2.152927 -8.607993   \n",
       "4  -1.430452  -1.731867  10.914315  7.377211 -5.516296 -1.309721 -1.971173   \n",
       "\n",
       "        7          8          9    ...       162       163       164  \\\n",
       "0  2.258262  -3.209390  -0.927825  ...  0.127895 -0.317623  0.843823   \n",
       "1  0.578034   2.242778 -11.714979  ... -0.624490 -0.304565  0.158404   \n",
       "2  2.911398  -3.648909  -0.526383  ... -0.021966  0.053772 -0.058075   \n",
       "3  0.123869  14.629055   3.469707  ...  0.321503 -0.776772  0.191155   \n",
       "4 -5.417054   0.407181   4.738639  ... -0.259743  0.479766  0.829216   \n",
       "\n",
       "        165       166       167       168       169       170       171  \n",
       "0  0.159433  0.047389  0.268116  0.289188 -0.177913 -0.312349 -0.038182  \n",
       "1  0.747687 -0.241269 -0.038605  0.115899  0.236453 -1.403034 -0.785582  \n",
       "2 -0.023436 -0.008878 -0.062572  0.039971  0.092517 -0.025840  0.010921  \n",
       "3 -1.005195 -0.944213 -0.876913 -1.227369  0.478337  0.123222  0.451757  \n",
       "4  0.900501 -1.141532  1.222215  0.452313 -1.695914 -0.392326 -1.489823  \n",
       "\n",
       "[5 rows x 172 columns]"
      ]
     },
     "execution_count": 13,
     "metadata": {},
     "output_type": "execute_result"
    }
   ],
   "source": [
    "reduced2 = pd.DataFrame(reduced2)\n",
    "reduced2.head()"
   ]
  },
  {
   "cell_type": "code",
   "execution_count": 29,
   "metadata": {},
   "outputs": [
    {
     "name": "stdout",
     "output_type": "stream",
     "text": [
      "[[  0.88083908  -4.91022307]\n",
      " [-33.418265    52.44875739]\n",
      " [  0.65152311  -2.51460347]\n",
      " ...\n",
      " [-11.17143845   2.44949347]\n",
      " [  1.79579425   1.88736214]\n",
      " [  3.04226779  -6.83578986]]\n"
     ]
    }
   ],
   "source": [
    "test = reduced2.iloc[:,0:2].values\n",
    "print(test)"
   ]
  },
  {
   "cell_type": "code",
   "execution_count": 45,
   "metadata": {},
   "outputs": [
    {
     "ename": "SyntaxError",
     "evalue": "closing parenthesis ')' does not match opening parenthesis '[' (<ipython-input-45-5aff0044bc71>, line 3)",
     "output_type": "error",
     "traceback": [
      "\u001b[1;36m  File \u001b[1;32m\"<ipython-input-45-5aff0044bc71>\"\u001b[1;36m, line \u001b[1;32m3\u001b[0m\n\u001b[1;33m    test = pd.DataFrame(test, columns = ['PCA1','PCA2]')\u001b[0m\n\u001b[1;37m                                                       ^\u001b[0m\n\u001b[1;31mSyntaxError\u001b[0m\u001b[1;31m:\u001b[0m closing parenthesis ')' does not match opening parenthesis '['\n"
     ]
    }
   ],
   "source": [
    "y = pd.DataFrame(y, columns = ['lables'])\n",
    "extracted_col = y[\"lables\"]\n",
    "test = pd.DataFrame(test, columns = ['PCA1','PCA2]')\n",
    "test = test.join(extracted_col)\n",
    "test.head()"
   ]
  },
  {
   "cell_type": "code",
   "execution_count": null,
   "metadata": {},
   "outputs": [],
   "source": [
    ")\n",
    "test = test.insert(2,y)\n",
    "test.head()\n",
    "df4 = pd.DataFrame(np.random.rand(100, 2),\n",
    "           columns =['a', 'b'])\n",
    "df.plot.scatter(x ='a', y ='b');"
   ]
  }
 ],
 "metadata": {
  "kernelspec": {
   "display_name": "Python 3",
   "language": "python",
   "name": "python3"
  },
  "language_info": {
   "codemirror_mode": {
    "name": "ipython",
    "version": 3
   },
   "file_extension": ".py",
   "mimetype": "text/x-python",
   "name": "python",
   "nbconvert_exporter": "python",
   "pygments_lexer": "ipython3",
   "version": "3.8.5"
  }
 },
 "nbformat": 4,
 "nbformat_minor": 4
}
