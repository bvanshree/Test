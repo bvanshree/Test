{
 "cells": [
  {
   "cell_type": "code",
   "execution_count": 1,
   "metadata": {},
   "outputs": [
    {
     "data": {
      "text/html": [
       "<div>\n",
       "<style scoped>\n",
       "    .dataframe tbody tr th:only-of-type {\n",
       "        vertical-align: middle;\n",
       "    }\n",
       "\n",
       "    .dataframe tbody tr th {\n",
       "        vertical-align: top;\n",
       "    }\n",
       "\n",
       "    .dataframe thead th {\n",
       "        text-align: right;\n",
       "    }\n",
       "</style>\n",
       "<table border=\"1\" class=\"dataframe\">\n",
       "  <thead>\n",
       "    <tr style=\"text-align: right;\">\n",
       "      <th></th>\n",
       "      <th>s_id</th>\n",
       "      <th>Unnamed: 1</th>\n",
       "      <th>Unnamed: 2</th>\n",
       "      <th>Unnamed: 3</th>\n",
       "      <th>Unnamed: 4</th>\n",
       "      <th>Unnamed: 5</th>\n",
       "      <th>Unnamed: 6</th>\n",
       "      <th>Unnamed: 7</th>\n",
       "      <th>Unnamed: 8</th>\n",
       "      <th>Unnamed: 9</th>\n",
       "      <th>...</th>\n",
       "      <th>Unnamed: 952</th>\n",
       "      <th>Unnamed: 953</th>\n",
       "      <th>Unnamed: 954</th>\n",
       "      <th>Unnamed: 955</th>\n",
       "      <th>Unnamed: 956</th>\n",
       "      <th>Unnamed: 957</th>\n",
       "      <th>Unnamed: 958</th>\n",
       "      <th>Unnamed: 959</th>\n",
       "      <th>Unnamed: 960</th>\n",
       "      <th>lables</th>\n",
       "    </tr>\n",
       "  </thead>\n",
       "  <tbody>\n",
       "    <tr>\n",
       "      <th>0</th>\n",
       "      <td>1</td>\n",
       "      <td>-1.8226</td>\n",
       "      <td>8.51070</td>\n",
       "      <td>-0.53551</td>\n",
       "      <td>-2.03440</td>\n",
       "      <td>2.2282</td>\n",
       "      <td>2.04870</td>\n",
       "      <td>-5.81380</td>\n",
       "      <td>-4.4169</td>\n",
       "      <td>2.3129</td>\n",
       "      <td>...</td>\n",
       "      <td>-5.74060</td>\n",
       "      <td>12.5650</td>\n",
       "      <td>41.23100</td>\n",
       "      <td>-6.77570</td>\n",
       "      <td>1.72780</td>\n",
       "      <td>15.9120</td>\n",
       "      <td>23.583000</td>\n",
       "      <td>3.9158</td>\n",
       "      <td>35.7250</td>\n",
       "      <td>1</td>\n",
       "    </tr>\n",
       "    <tr>\n",
       "      <th>1</th>\n",
       "      <td>2</td>\n",
       "      <td>1.2816</td>\n",
       "      <td>-0.49410</td>\n",
       "      <td>-0.19667</td>\n",
       "      <td>1.05510</td>\n",
       "      <td>-1.9280</td>\n",
       "      <td>1.07120</td>\n",
       "      <td>-0.19667</td>\n",
       "      <td>-4.6669</td>\n",
       "      <td>3.8230</td>\n",
       "      <td>...</td>\n",
       "      <td>-20.50300</td>\n",
       "      <td>47.7540</td>\n",
       "      <td>2.88560</td>\n",
       "      <td>-6.86660</td>\n",
       "      <td>6.29350</td>\n",
       "      <td>-4.8789</td>\n",
       "      <td>-1.300100</td>\n",
       "      <td>-1.4275</td>\n",
       "      <td>-3.4192</td>\n",
       "      <td>1</td>\n",
       "    </tr>\n",
       "    <tr>\n",
       "      <th>2</th>\n",
       "      <td>3</td>\n",
       "      <td>-2.0304</td>\n",
       "      <td>-0.27552</td>\n",
       "      <td>-0.58236</td>\n",
       "      <td>-5.95250</td>\n",
       "      <td>7.3550</td>\n",
       "      <td>2.16640</td>\n",
       "      <td>-4.71510</td>\n",
       "      <td>17.1580</td>\n",
       "      <td>15.5120</td>\n",
       "      <td>...</td>\n",
       "      <td>-10.71800</td>\n",
       "      <td>-4.5436</td>\n",
       "      <td>1.38680</td>\n",
       "      <td>-5.32100</td>\n",
       "      <td>-6.08350</td>\n",
       "      <td>-1.3021</td>\n",
       "      <td>-10.569000</td>\n",
       "      <td>-4.2189</td>\n",
       "      <td>-1.6538</td>\n",
       "      <td>1</td>\n",
       "    </tr>\n",
       "    <tr>\n",
       "      <th>3</th>\n",
       "      <td>4</td>\n",
       "      <td>-1.0026</td>\n",
       "      <td>0.41320</td>\n",
       "      <td>0.62058</td>\n",
       "      <td>-0.34226</td>\n",
       "      <td>-0.2027</td>\n",
       "      <td>-0.92619</td>\n",
       "      <td>0.61123</td>\n",
       "      <td>-2.0824</td>\n",
       "      <td>-3.5442</td>\n",
       "      <td>...</td>\n",
       "      <td>-2.90100</td>\n",
       "      <td>4.5538</td>\n",
       "      <td>-0.77261</td>\n",
       "      <td>4.25520</td>\n",
       "      <td>0.27911</td>\n",
       "      <td>4.7744</td>\n",
       "      <td>-5.695200</td>\n",
       "      <td>-18.7410</td>\n",
       "      <td>58.3810</td>\n",
       "      <td>1</td>\n",
       "    </tr>\n",
       "    <tr>\n",
       "      <th>4</th>\n",
       "      <td>5</td>\n",
       "      <td>1.2754</td>\n",
       "      <td>25.84200</td>\n",
       "      <td>5.80000</td>\n",
       "      <td>2.89000</td>\n",
       "      <td>3.1957</td>\n",
       "      <td>4.45040</td>\n",
       "      <td>5.99760</td>\n",
       "      <td>-6.4947</td>\n",
       "      <td>2.9189</td>\n",
       "      <td>...</td>\n",
       "      <td>-0.97276</td>\n",
       "      <td>3.8810</td>\n",
       "      <td>7.13330</td>\n",
       "      <td>0.70157</td>\n",
       "      <td>-1.69570</td>\n",
       "      <td>1.2263</td>\n",
       "      <td>-0.093752</td>\n",
       "      <td>-1.7140</td>\n",
       "      <td>2.5131</td>\n",
       "      <td>1</td>\n",
       "    </tr>\n",
       "  </tbody>\n",
       "</table>\n",
       "<p>5 rows × 962 columns</p>\n",
       "</div>"
      ],
      "text/plain": [
       "   s_id  Unnamed: 1  Unnamed: 2  Unnamed: 3  Unnamed: 4  Unnamed: 5  \\\n",
       "0     1     -1.8226     8.51070    -0.53551    -2.03440      2.2282   \n",
       "1     2      1.2816    -0.49410    -0.19667     1.05510     -1.9280   \n",
       "2     3     -2.0304    -0.27552    -0.58236    -5.95250      7.3550   \n",
       "3     4     -1.0026     0.41320     0.62058    -0.34226     -0.2027   \n",
       "4     5      1.2754    25.84200     5.80000     2.89000      3.1957   \n",
       "\n",
       "   Unnamed: 6  Unnamed: 7  Unnamed: 8  Unnamed: 9  ...  Unnamed: 952  \\\n",
       "0     2.04870    -5.81380     -4.4169      2.3129  ...      -5.74060   \n",
       "1     1.07120    -0.19667     -4.6669      3.8230  ...     -20.50300   \n",
       "2     2.16640    -4.71510     17.1580     15.5120  ...     -10.71800   \n",
       "3    -0.92619     0.61123     -2.0824     -3.5442  ...      -2.90100   \n",
       "4     4.45040     5.99760     -6.4947      2.9189  ...      -0.97276   \n",
       "\n",
       "   Unnamed: 953  Unnamed: 954  Unnamed: 955  Unnamed: 956  Unnamed: 957  \\\n",
       "0       12.5650      41.23100      -6.77570       1.72780       15.9120   \n",
       "1       47.7540       2.88560      -6.86660       6.29350       -4.8789   \n",
       "2       -4.5436       1.38680      -5.32100      -6.08350       -1.3021   \n",
       "3        4.5538      -0.77261       4.25520       0.27911        4.7744   \n",
       "4        3.8810       7.13330       0.70157      -1.69570        1.2263   \n",
       "\n",
       "   Unnamed: 958  Unnamed: 959  Unnamed: 960  lables  \n",
       "0     23.583000        3.9158       35.7250       1  \n",
       "1     -1.300100       -1.4275       -3.4192       1  \n",
       "2    -10.569000       -4.2189       -1.6538       1  \n",
       "3     -5.695200      -18.7410       58.3810       1  \n",
       "4     -0.093752       -1.7140        2.5131       1  \n",
       "\n",
       "[5 rows x 962 columns]"
      ]
     },
     "execution_count": 1,
     "metadata": {},
     "output_type": "execute_result"
    }
   ],
   "source": [
    "import numpy as np\n",
    "import pandas as pd\n",
    "df = pd.read_csv (r'C:\\Users\\vansh\\Desktop\\Book\\COMP90051\\Assignment 1\\train.csv')\n",
    "df.head()"
   ]
  },
  {
   "cell_type": "code",
   "execution_count": 2,
   "metadata": {},
   "outputs": [
    {
     "data": {
      "text/plain": [
       "(9388, 962)"
      ]
     },
     "execution_count": 2,
     "metadata": {},
     "output_type": "execute_result"
    }
   ],
   "source": [
    "df.shape"
   ]
  },
  {
   "cell_type": "code",
   "execution_count": 3,
   "metadata": {},
   "outputs": [
    {
     "data": {
      "text/plain": [
       "3     590\n",
       "9     586\n",
       "6     580\n",
       "8     580\n",
       "2     579\n",
       "10    579\n",
       "1     578\n",
       "5     577\n",
       "4     571\n",
       "7     570\n",
       "13    196\n",
       "12    195\n",
       "20    195\n",
       "16    194\n",
       "19    193\n",
       "17    193\n",
       "14    190\n",
       "18    190\n",
       "11    190\n",
       "15    190\n",
       "21     98\n",
       "27     98\n",
       "24     98\n",
       "26     98\n",
       "28     97\n",
       "23     97\n",
       "22     97\n",
       "29     97\n",
       "25     96\n",
       "30     95\n",
       "33     49\n",
       "40     49\n",
       "38     49\n",
       "37     49\n",
       "31     49\n",
       "32     48\n",
       "35     48\n",
       "39     48\n",
       "34     48\n",
       "36     47\n",
       "42     25\n",
       "48     24\n",
       "47     24\n",
       "41     24\n",
       "49     24\n",
       "44     24\n",
       "45     24\n",
       "46     24\n",
       "43     24\n",
       "Name: lables, dtype: int64"
      ]
     },
     "execution_count": 3,
     "metadata": {},
     "output_type": "execute_result"
    }
   ],
   "source": [
    "df.lables.value_counts()"
   ]
  },
  {
   "cell_type": "code",
   "execution_count": 4,
   "metadata": {},
   "outputs": [],
   "source": [
    "X = df.iloc[:,1:961].values \n",
    "y = df.iloc[:,961].values"
   ]
  },
  {
   "cell_type": "code",
   "execution_count": 5,
   "metadata": {},
   "outputs": [],
   "source": [
    "#pip install imbalanced-learn"
   ]
  },
  {
   "cell_type": "code",
   "execution_count": 6,
   "metadata": {},
   "outputs": [],
   "source": [
    "from imblearn.over_sampling import SMOTE\n",
    "smote = SMOTE()"
   ]
  },
  {
   "cell_type": "code",
   "execution_count": 7,
   "metadata": {},
   "outputs": [],
   "source": [
    "X_train_smote, y_train_smote = smote.fit_sample(X.astype('float'),y)"
   ]
  },
  {
   "cell_type": "code",
   "execution_count": 8,
   "metadata": {},
   "outputs": [
    {
     "name": "stdout",
     "output_type": "stream",
     "text": [
      "Before SMOTE : Counter({3: 590, 9: 586, 6: 580, 8: 580, 2: 579, 10: 579, 1: 578, 5: 577, 4: 571, 7: 570, 13: 196, 12: 195, 20: 195, 16: 194, 17: 193, 19: 193, 11: 190, 14: 190, 15: 190, 18: 190, 21: 98, 24: 98, 26: 98, 27: 98, 22: 97, 23: 97, 28: 97, 29: 97, 25: 96, 30: 95, 31: 49, 33: 49, 37: 49, 38: 49, 40: 49, 32: 48, 34: 48, 35: 48, 39: 48, 36: 47, 42: 25, 41: 24, 43: 24, 44: 24, 45: 24, 46: 24, 47: 24, 48: 24, 49: 24})\n",
      "After SMOTE : Counter({1: 590, 2: 590, 3: 590, 4: 590, 5: 590, 6: 590, 7: 590, 8: 590, 9: 590, 10: 590, 11: 590, 12: 590, 13: 590, 14: 590, 15: 590, 16: 590, 17: 590, 18: 590, 19: 590, 20: 590, 21: 590, 22: 590, 23: 590, 24: 590, 25: 590, 26: 590, 27: 590, 28: 590, 29: 590, 30: 590, 31: 590, 32: 590, 33: 590, 34: 590, 35: 590, 36: 590, 37: 590, 38: 590, 39: 590, 40: 590, 41: 590, 42: 590, 43: 590, 44: 590, 45: 590, 46: 590, 47: 590, 48: 590, 49: 590})\n"
     ]
    }
   ],
   "source": [
    "from collections import Counter\n",
    "print(\"Before SMOTE :\" , Counter(y))\n",
    "print(\"After SMOTE :\" , Counter(y_train_smote))"
   ]
  },
  {
   "cell_type": "code",
   "execution_count": 9,
   "metadata": {},
   "outputs": [
    {
     "data": {
      "text/plain": [
       "(28910, 960)"
      ]
     },
     "execution_count": 9,
     "metadata": {},
     "output_type": "execute_result"
    }
   ],
   "source": [
    "X_train_smote.shape"
   ]
  },
  {
   "cell_type": "code",
   "execution_count": null,
   "metadata": {},
   "outputs": [],
   "source": []
  }
 ],
 "metadata": {
  "kernelspec": {
   "display_name": "Python 3",
   "language": "python",
   "name": "python3"
  },
  "language_info": {
   "codemirror_mode": {
    "name": "ipython",
    "version": 3
   },
   "file_extension": ".py",
   "mimetype": "text/x-python",
   "name": "python",
   "nbconvert_exporter": "python",
   "pygments_lexer": "ipython3",
   "version": "3.8.5"
  }
 },
 "nbformat": 4,
 "nbformat_minor": 4
}
